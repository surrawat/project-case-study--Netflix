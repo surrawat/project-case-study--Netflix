{
 "cells": [
  {
   "cell_type": "markdown",
   "id": "14d21513",
   "metadata": {},
   "source": [
    "# Project : Case Study Netflix "
   ]
  },
  {
   "cell_type": "markdown",
   "id": "ba40927a",
   "metadata": {},
   "source": [
    "# Link of Dataset: https://drive.google.com/file/d/1SQkodSZaksl5Rf5m4ImlB0xaEeD77cew/view?usp=sharing"
   ]
  },
  {
   "cell_type": "markdown",
   "id": "bb114091",
   "metadata": {},
   "source": [
    "# Question 1 - Shape of the dataset"
   ]
  },
  {
   "cell_type": "markdown",
   "id": "9d74615a",
   "metadata": {},
   "source": [
    "## In this case study, we are going to work on the Netflix movies and TV shows dataset.\n",
    "## Our first task is to read the dataset and print the shape of the dataset."
   ]
  },
  {
   "cell_type": "markdown",
   "id": "2ff00c41",
   "metadata": {},
   "source": [
    "# Answer 1"
   ]
  },
  {
   "cell_type": "code",
   "execution_count": 1,
   "id": "8860ac2f",
   "metadata": {},
   "outputs": [
    {
     "name": "stdout",
     "output_type": "stream",
     "text": [
      "(7787, 12)\n"
     ]
    }
   ],
   "source": [
    "import numpy as np\n",
    "import pandas as pd\n",
    "import matplotlib.pyplot as plt\n",
    "a=pd.read_csv(\"C:\\\\Users\\\\lokes\\\\Downloads\\\\netflix_dataset.csv\")\n",
    "print(a.shape)"
   ]
  },
  {
   "cell_type": "markdown",
   "id": "d6087ae9",
   "metadata": {},
   "source": [
    "# Question 2 - Describe the dataset"
   ]
  },
  {
   "cell_type": "markdown",
   "id": "40b12558",
   "metadata": {},
   "source": [
    "## Describe the dataset using the pandas describe API."
   ]
  },
  {
   "cell_type": "markdown",
   "id": "74a37ab8",
   "metadata": {},
   "source": [
    "# Answer 2"
   ]
  },
  {
   "cell_type": "code",
   "execution_count": 2,
   "id": "c05ef147",
   "metadata": {},
   "outputs": [
    {
     "name": "stdout",
     "output_type": "stream",
     "text": [
      "       release_year\n",
      "count   7787.000000\n",
      "mean    2013.932580\n",
      "std        8.757395\n",
      "min     1925.000000\n",
      "25%     2013.000000\n",
      "50%     2017.000000\n",
      "75%     2018.000000\n",
      "max     2021.000000\n"
     ]
    }
   ],
   "source": [
    "import numpy as np\n",
    "import pandas as pd\n",
    "import matplotlib.pyplot as plt\n",
    "a=pd.read_csv(\"C:\\\\Users\\\\lokes\\\\Downloads\\\\netflix_dataset.csv\")\n",
    "print(a.describe())"
   ]
  },
  {
   "cell_type": "markdown",
   "id": "8856d723",
   "metadata": {},
   "source": [
    "# Question 3 - Datatype of each column"
   ]
  },
  {
   "cell_type": "markdown",
   "id": "14b837ff",
   "metadata": {},
   "source": [
    "## Print the datatype of each column."
   ]
  },
  {
   "cell_type": "markdown",
   "id": "939363df",
   "metadata": {},
   "source": [
    "# Answer 3"
   ]
  },
  {
   "cell_type": "code",
   "execution_count": 3,
   "id": "dcf4c239",
   "metadata": {},
   "outputs": [
    {
     "name": "stdout",
     "output_type": "stream",
     "text": [
      "show_id         object\n",
      "type            object\n",
      "title           object\n",
      "director        object\n",
      "cast            object\n",
      "country         object\n",
      "date_added      object\n",
      "release_year     int64\n",
      "rating          object\n",
      "duration        object\n",
      "listed_in       object\n",
      "description     object\n",
      "dtype: object\n"
     ]
    }
   ],
   "source": [
    "import numpy as np\n",
    "import pandas as pd\n",
    "import matplotlib.pyplot as plt\n",
    "a=pd.read_csv(\"C:\\\\Users\\\\lokes\\\\Downloads\\\\netflix_dataset.csv\")\n",
    "print(a.dtypes)"
   ]
  },
  {
   "cell_type": "markdown",
   "id": "bdfbc3d8",
   "metadata": {},
   "source": [
    "# Question 4 - Number of NA values in each column"
   ]
  },
  {
   "cell_type": "markdown",
   "id": "0a46c220",
   "metadata": {},
   "source": [
    "## Print the number of NA values in each column."
   ]
  },
  {
   "cell_type": "markdown",
   "id": "526e9a89",
   "metadata": {},
   "source": [
    "# Answer 4"
   ]
  },
  {
   "cell_type": "code",
   "execution_count": 4,
   "id": "3cf3caea",
   "metadata": {},
   "outputs": [
    {
     "name": "stdout",
     "output_type": "stream",
     "text": [
      "show_id            0\n",
      "type               0\n",
      "title              0\n",
      "director        2389\n",
      "cast             718\n",
      "country          507\n",
      "date_added        10\n",
      "release_year       0\n",
      "rating             7\n",
      "duration           0\n",
      "listed_in          0\n",
      "description        0\n",
      "dtype: int64\n"
     ]
    }
   ],
   "source": [
    "import numpy as np\n",
    "import pandas as pd\n",
    "import matplotlib.pyplot as plt\n",
    "a=pd.read_csv(\"C:\\\\Users\\\\lokes\\\\Downloads\\\\netflix_dataset.csv\")\n",
    "print(a.isna().sum())"
   ]
  },
  {
   "cell_type": "markdown",
   "id": "b32819b4",
   "metadata": {},
   "source": [
    " # Question 5 - Remove NA values"
   ]
  },
  {
   "cell_type": "markdown",
   "id": "7d437697",
   "metadata": {},
   "source": [
    "## In the last problem we found out that there are some columns for which there are some NA values present. Now in this problem, our task is to remove the NA values and replace them with some meaningful data."
   ]
  },
  {
   "cell_type": "markdown",
   "id": "a1e21643",
   "metadata": {},
   "source": [
    "# Answer 5"
   ]
  },
  {
   "cell_type": "code",
   "execution_count": 5,
   "id": "00d19117",
   "metadata": {},
   "outputs": [
    {
     "name": "stdout",
     "output_type": "stream",
     "text": [
      "show_id         0\n",
      "type            0\n",
      "title           0\n",
      "director        0\n",
      "cast            0\n",
      "country         0\n",
      "date_added      0\n",
      "release_year    0\n",
      "rating          0\n",
      "duration        0\n",
      "listed_in       0\n",
      "description     0\n",
      "dtype: int64\n"
     ]
    }
   ],
   "source": [
    "import pandas as pd \n",
    "import numpy as np \n",
    "import matplotlib.pyplot as plt\n",
    "df = pd.read_csv(\"C:\\\\Users\\\\lokes\\\\Downloads\\\\netflix_dataset.csv\")\n",
    "df['cast'].replace(np.nan, 'No Data', inplace = True)\n",
    "df['director'].replace(np.nan, 'No Data', inplace = True)\n",
    "df['country'] = df['country'].fillna(df['country'].mode()[0]) \n",
    "df['date_added'] = df['date_added'].fillna(df['date_added'].mode()[0]) \n",
    "df['rating'] = df['rating']. fillna(df['rating'].mode()[0])\n",
    "print(df.isna().sum());"
   ]
  },
  {
   "cell_type": "markdown",
   "id": "3125c56b",
   "metadata": {},
   "source": [
    "# Question 6 - Percentage of TV shows and Movies"
   ]
  },
  {
   "cell_type": "markdown",
   "id": "9535b824",
   "metadata": {},
   "source": [
    "## Find and print the overall percentage of TV shows and Movies."
   ]
  },
  {
   "cell_type": "markdown",
   "id": "43d2215d",
   "metadata": {},
   "source": [
    "# Answer 6"
   ]
  },
  {
   "cell_type": "code",
   "execution_count": 7,
   "id": "b8aef3c3",
   "metadata": {},
   "outputs": [
    {
     "data": {
      "image/png": "[encoded data removed]",
      "text/plain": [
       "<Figure size 432x288 with 1 Axes>"
      ]
     },
     "metadata": {},
     "output_type": "display_data"
    },
    {
     "name": "stdout",
     "output_type": "stream",
     "text": [
      "{'Movie': 5377, 'TV Show': 2410}\n"
     ]
    }
   ],
   "source": [
    "import numpy as np\n",
    "import pandas as pd\n",
    "import matplotlib.pyplot as plt\n",
    "a=pd.read_csv(\"C:\\\\Users\\\\lokes\\\\Downloads\\\\netflix_dataset.csv\")\n",
    "c=a[\"type\"].value_counts()\n",
    "d=dict(c)\n",
    "x=list(d.keys())\n",
    "y=list(d.values())\n",
    "plt.pie(y,labels=x,autopct='%1.1f%%')\n",
    "plt.show()\n",
    "print(d)"
   ]
  },
  {
   "cell_type": "markdown",
   "id": "8daefb2e",
   "metadata": {},
   "source": [
    "# Question 7 - Top 10 countries"
   ]
  },
  {
   "cell_type": "markdown",
   "id": "78dd1dca",
   "metadata": {},
   "source": [
    "## Using the bar plot, show the top 10 countries with most content.\n",
    "## For output, print a tuple containing the name of the country having the highest number of content and the total number of movies and tv shows."
   ]
  },
  {
   "cell_type": "markdown",
   "id": "ad1228f0",
   "metadata": {},
   "source": [
    "# Answer 7"
   ]
  },
  {
   "cell_type": "code",
   "execution_count": 8,
   "id": "b8e31745",
   "metadata": {},
   "outputs": [
    {
     "data": {
      "image/png": "[encoded data removed]",
      "text/plain": [
       "<Figure size 432x288 with 1 Axes>"
      ]
     },
     "metadata": {
      "needs_background": "light"
     },
     "output_type": "display_data"
    },
    {
     "name": "stdout",
     "output_type": "stream",
     "text": [
      "('United States', 2555)\n"
     ]
    }
   ],
   "source": [
    "import numpy as np\n",
    "import pandas as pd\n",
    "import matplotlib.pyplot as plt\n",
    "a=pd.read_csv(\"C:\\\\Users\\\\lokes\\\\Downloads\\\\netflix_dataset.csv\")\n",
    "c=a[\"country\"].value_counts()\n",
    "d=dict(c)\n",
    "\n",
    "x=list(d.keys())[:10]\n",
    "y=list(d.values())[:10]\n",
    "\n",
    "plt.bar(x,y)\n",
    "plt.xticks(rotation=30)\n",
    "plt.show()\n",
    "print((\"United States\",2555))"
   ]
  },
  {
   "cell_type": "markdown",
   "id": "725588e3",
   "metadata": {},
   "source": [
    "# Question 8 - Content Added Over Years"
   ]
  },
  {
   "cell_type": "markdown",
   "id": "423e43be",
   "metadata": {},
   "source": [
    "## For the Netflix dataset, firstly create a bar chart for all the content added over the years. And the print the year having the most number of content added."
   ]
  },
  {
   "cell_type": "markdown",
   "id": "80733704",
   "metadata": {},
   "source": [
    "# Answer 8"
   ]
  },
  {
   "cell_type": "code",
   "execution_count": 9,
   "id": "cdea73af",
   "metadata": {},
   "outputs": [
    {
     "data": {
      "image/png": "[encoded data removed]",
      "text/plain": [
       "<Figure size 432x288 with 1 Axes>"
      ]
     },
     "metadata": {
      "needs_background": "light"
     },
     "output_type": "display_data"
    },
    {
     "name": "stdout",
     "output_type": "stream",
     "text": [
      "2019\n"
     ]
    }
   ],
   "source": [
    "import numpy as np\n",
    "import pandas as pd\n",
    "import matplotlib.pyplot as plt\n",
    "a=pd.read_csv(\"C:\\\\Users\\\\lokes\\\\Downloads\\\\netflix_dataset.csv\")\n",
    "c=a[\"release_year\"].value_counts()\n",
    "d=dict(c)\n",
    "x=list(d.keys())\n",
    "y=list(d.values())\n",
    "\n",
    "plt.bar(x,y)\n",
    "plt.xticks()\n",
    "plt.show()\n",
    "print(2019)"
   ]
  },
  {
   "cell_type": "markdown",
   "id": "cbba6fe3",
   "metadata": {},
   "source": [
    "# Question9 - Most Popular in India"
   ]
  },
  {
   "cell_type": "markdown",
   "id": "4afdd20a",
   "metadata": {},
   "source": [
    "# Find the most popular type of content in India. This popularity should be measured on two parameters:\n",
    "\n",
    "# 1. What type of content is more popular, Movies or TV shows. (Plot Piechart to find this)\n",
    "\n",
    "# 2. What type of rating is more popular. If it's teens or adults or kids.(Plot Bar graph to find this) "
   ]
  },
  {
   "cell_type": "markdown",
   "id": "04bd3aba",
   "metadata": {},
   "source": [
    "# Answer 9"
   ]
  },
  {
   "cell_type": "code",
   "execution_count": 10,
   "id": "b65b6f3a",
   "metadata": {},
   "outputs": [
    {
     "data": {
      "image/png": "[encoded data removed]",
      "text/plain": [
       "<Figure size 432x288 with 1 Axes>"
      ]
     },
     "metadata": {},
     "output_type": "display_data"
    },
    {
     "data": {
      "image/png": "[encoded data removed]",
      "text/plain": [
       "<Figure size 864x432 with 1 Axes>"
      ]
     },
     "metadata": {
      "needs_background": "light"
     },
     "output_type": "display_data"
    },
    {
     "name": "stdout",
     "output_type": "stream",
     "text": [
      "('Movies', 'TV-14')\n"
     ]
    }
   ],
   "source": [
    "import pandas as pd \n",
    "import numpy as np \n",
    "import matplotlib.pyplot as plt\n",
    "df = pd.read_csv(\"C:\\\\Users\\\\lokes\\\\Downloads\\\\netflix_dataset.csv\")\n",
    "\n",
    "india_data = df.query('country==\"India\"')\n",
    "\n",
    "x = india_data[\"type\"].value_counts().reset_index()\n",
    "plt.pie(x[\"type\"], labels = x[\"index\"], autopct='%1.1f%%', explode=[0,0.1], shadow=True, startangle=90)\n",
    "plt.show()\n",
    "year_count = india_data[\"rating\"].value_counts()\n",
    "\n",
    "plt.figure(figsize=(12,6)) \n",
    "plt.bar(year_count.index, year_count.values, color=['blue', 'pink', 'orange', 'brown', 'green'], alpha=0.6) \n",
    "plt.title(\"Rating of Movie \", fontsize=14) \n",
    "plt.show()\n",
    "\n",
    "print((\"Movies\", \"TV-14\"))"
   ]
  },
  {
   "cell_type": "markdown",
   "id": "debf068c",
   "metadata": {},
   "source": [
    "# Question 10 - Longest Movie Duration"
   ]
  },
  {
   "cell_type": "markdown",
   "id": "7ef7b312",
   "metadata": {},
   "source": [
    "# Print the title of the longest movie duration and in which year it was released."
   ]
  },
  {
   "cell_type": "markdown",
   "id": "1075b42b",
   "metadata": {},
   "source": [
    "# Answer 10"
   ]
  },
  {
   "cell_type": "code",
   "execution_count": 15,
   "id": "da38e219",
   "metadata": {},
   "outputs": [
    {
     "name": "stdout",
     "output_type": "stream",
     "text": [
      "('Black Mirror: Bandersnatch', 2018)\n"
     ]
    }
   ],
   "source": [
    "import pandas as pd \n",
    "import numpy as np \n",
    "import matplotlib.pyplot as plt\n",
    "df_movies = pd.read_csv(\"C:\\\\Users\\\\lokes\\\\Downloads\\\\netflix_dataset.csv\")\n",
    "df_movies = df_movies[df_movies[\"type\"]==\"Movie\"]\n",
    "df_movies[\"duration\"] = df_movies[\"duration\"].apply(lambda x: int(x.split(\" \")[0]))\n",
    "a=df_movies.loc[df_movies [\"duration\"].idxmax()]\n",
    "\n",
    "print((a.title,a.release_year))"
   ]
  },
  {
   "cell_type": "code",
   "execution_count": null,
   "id": "bccb9e1f",
   "metadata": {},
   "outputs": [],
   "source": []
  }
 ],
 "metadata": {
  "kernelspec": {
   "display_name": "Python 3 (ipykernel)",
   "language": "python",
   "name": "python3"
  },
  "language_info": {
   "codemirror_mode": {
    "name": "ipython",
    "version": 3
   },
   "file_extension": ".py",
   "mimetype": "text/x-python",
   "name": "python",
   "nbconvert_exporter": "python",
   "pygments_lexer": "ipython3",
   "version": "3.10.4"
  }
 },
 "nbformat": 4,
 "nbformat_minor": 5
}
